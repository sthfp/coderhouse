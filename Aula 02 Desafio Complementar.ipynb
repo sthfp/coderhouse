{
 "cells": [
  {
   "cell_type": "markdown",
   "metadata": {},
   "source": [
    "Escreva um programa em Python qye calcule o IMC (Índice de Massa Corporal) de uma pessoa. O programa deve solicitar ao usuário o peso em jg e a altura em metros, e em seguida, calcular e impriir o valor do IMC."
   ]
  },
  {
   "cell_type": "code",
   "execution_count": 18,
   "metadata": {},
   "outputs": [],
   "source": [
    "peso = input(\"Qual seu peso em kg?\")\n",
    "altura = input(\"Qual sua altura em metros?\")\n",
    "imc = float(peso)/float(altura)\n",
    "\n",
    "print(\"Seu IMC é {}\".format(imc))\n"
   ]
  },
  {
   "cell_type": "markdown",
   "metadata": {},
   "source": [
    "Faça um programa que crie uma lista vazia e permita que o usuário insira 5 números inteiros na lista."
   ]
  },
  {
   "cell_type": "code",
   "execution_count": 14,
   "metadata": {},
   "outputs": [
    {
     "name": "stdout",
     "output_type": "stream",
     "text": [
      "Você atingiu o limite\n"
     ]
    }
   ],
   "source": [
    "numero_1 = input(\"Insira um número inteiro:\")\n",
    "numero_2 = input(\"Insira um número inteiro:\")\n",
    "numero_3 = input(\"Insira um número inteiro:\")\n",
    "numero_4 = input(\"Insira um número inteiro:\")\n",
    "numero_5 = input(\"Insira um número inteiro:\")\n",
    "lista = [numero_1, numero_2, numero_3, numero_4, numero_5]\n",
    "numeros_na_lista = len(lista)\n",
    "numeros_faltantes = 5 - numeros_na_lista\n",
    "\n",
    "if numeros_na_lista == 5:\n",
    "    print(\"Você atingiu o limite\")"
   ]
  },
  {
   "cell_type": "markdown",
   "metadata": {},
   "source": [
    "Faça um programa que peça ao usuário para digitar uma lista de nomes separados por vírgula e transforme essa lista em uma lista de strings."
   ]
  },
  {
   "cell_type": "code",
   "execution_count": 17,
   "metadata": {},
   "outputs": [
    {
     "data": {
      "text/plain": [
       "['Pedro', 'Thiago', 'João', 'Lucas', 'Cesar']"
      ]
     },
     "execution_count": 17,
     "metadata": {},
     "output_type": "execute_result"
    }
   ],
   "source": [
    "lista_de_nomes = input(\"Digite uma lista de nomes separados por vírgula:\")\n",
    "lista_de_nomes.split(',')\n",
    "\n",
    "\n"
   ]
  }
 ],
 "metadata": {
  "kernelspec": {
   "display_name": "Python 3",
   "language": "python",
   "name": "python3"
  },
  "language_info": {
   "codemirror_mode": {
    "name": "ipython",
    "version": 3
   },
   "file_extension": ".py",
   "mimetype": "text/x-python",
   "name": "python",
   "nbconvert_exporter": "python",
   "pygments_lexer": "ipython3",
   "version": "3.8.10"
  }
 },
 "nbformat": 4,
 "nbformat_minor": 2
}

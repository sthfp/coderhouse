{
 "cells": [
  {
   "cell_type": "markdown",
   "metadata": {},
   "source": [
    "Escreva um programa que receba um número inteiro e exiba se ele é par ou ímpar."
   ]
  },
  {
   "cell_type": "code",
   "execution_count": 1,
   "metadata": {},
   "outputs": [
    {
     "name": "stdout",
     "output_type": "stream",
     "text": [
      "O número informado é par\n"
     ]
    }
   ],
   "source": [
    "numero = input(\"Digite um número inteiro:\")\n",
    "numero_inteiro = int(numero)\n",
    "\n",
    "\n",
    "while numero_inteiro > 0:\n",
    "    numero_inteiro = numero_inteiro - 2\n",
    "\n",
    "if numero_inteiro == -1:\n",
    "    print(\"O número informado é ímpar.\")\n",
    "else:\n",
    "    print(\"O número informado é par\")\n",
    "\n",
    "\n",
    "\n",
    "\n",
    "\n"
   ]
  },
  {
   "cell_type": "code",
   "execution_count": 4,
   "metadata": {},
   "outputs": [
    {
     "name": "stdout",
     "output_type": "stream",
     "text": [
      "Par\n"
     ]
    }
   ],
   "source": [
    "num = int(input(\"Digite um número inteiro: \"))\n",
    "if num % 2 == 0:\n",
    "    print(\"Par\")\n",
    "else:\n",
    "    print(\"Ímpar\")"
   ]
  },
  {
   "cell_type": "markdown",
   "metadata": {},
   "source": [
    "Escreva um programa que solicita ao usuário uma frase e, em seguida, exibe cada palavra e seu número de caracteres      "
   ]
  },
  {
   "cell_type": "code",
   "execution_count": 3,
   "metadata": {},
   "outputs": [
    {
     "name": "stdout",
     "output_type": "stream",
     "text": [
      "me 2\n",
      "ajude 5\n",
      "a 1\n",
      "segurar 7\n",
      "essa 4\n",
      "barra 5\n",
      "que 3\n",
      "é 1\n",
      "gostar 6\n",
      "de 2\n",
      "você 4\n"
     ]
    }
   ],
   "source": [
    "frase = input(\"Digite uma frase a seguir:\")\n",
    "palavras = frase.split()\n",
    "\n",
    "for palavra in palavras:\n",
    "    tamanho = len(palavra)\n",
    "    print(palavra,tamanho)\n",
    "\n"
   ]
  }
 ],
 "metadata": {
  "kernelspec": {
   "display_name": "Python 3",
   "language": "python",
   "name": "python3"
  },
  "language_info": {
   "codemirror_mode": {
    "name": "ipython",
    "version": 3
   },
   "file_extension": ".py",
   "mimetype": "text/x-python",
   "name": "python",
   "nbconvert_exporter": "python",
   "pygments_lexer": "ipython3",
   "version": "3.8.10"
  }
 },
 "nbformat": 4,
 "nbformat_minor": 2
}

{
 "cells": [
  {
   "cell_type": "markdown",
   "metadata": {},
   "source": [
    "Vamos utilizar a função notification.notify() para criar uma função de alerta de falha de carregamento de base de dados."
   ]
  },
  {
   "cell_type": "code",
   "execution_count": 108,
   "metadata": {},
   "outputs": [],
   "source": [
    "#!pip install plyer\n",
    "from plyer import notification \n",
    "from datetime import datetime\n",
    "\n",
    "def alerta(nivel,base,etapa):\n",
    "    today = datetime.today()\n",
    "    \n",
    "    if nivel == 1:\n",
    "        notification.notify(\n",
    "\n",
    "            title=\"ATENÇÃO: Alerta Baixo\",\n",
    "\n",
    "            message=f\"Falha no carregamento da base {base} na etapa {etapa}\\n{today}\",\n",
    "\n",
    "            timeout=10 )\n",
    "    if nivel == 2:\n",
    "        notification.notify(\n",
    "\n",
    "            title=\"ATENÇÃO: Alerta Médio\",\n",
    "\n",
    "            message=f\"Falha no carregamento da base {base} na etapa {etapa}\\n{today}\",\n",
    "\n",
    "            timeout=10 )\n",
    "    if nivel == 3:\n",
    "        notification.notify(\n",
    "\n",
    "            title=\"ATENÇÃO: Alerta Alto\",\n",
    "\n",
    "            message=f\"Falha no carregamento da base {base} na etapa {etapa}\\n{today}\",\n",
    "\n",
    "            timeout=10 )"
   ]
  },
  {
   "cell_type": "code",
   "execution_count": 109,
   "metadata": {},
   "outputs": [],
   "source": [
    "alerta(nivel = 3, base = \"CLIENTES\", etapa = \"EXTRACAO\")"
   ]
  }
 ],
 "metadata": {
  "kernelspec": {
   "display_name": "Python 3",
   "language": "python",
   "name": "python3"
  },
  "language_info": {
   "codemirror_mode": {
    "name": "ipython",
    "version": 3
   },
   "file_extension": ".py",
   "mimetype": "text/x-python",
   "name": "python",
   "nbconvert_exporter": "python",
   "pygments_lexer": "ipython3",
   "version": "3.8.10"
  }
 },
 "nbformat": 4,
 "nbformat_minor": 2
}

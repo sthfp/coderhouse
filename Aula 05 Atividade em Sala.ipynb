{
 "cells": [
  {
   "cell_type": "markdown",
   "metadata": {},
   "source": [
    "Crie uma classe Retangulo que tenha os atributos base e altura e os métodos area() e perimetro(). Crie um objeto e teste os métodos."
   ]
  },
  {
   "cell_type": "code",
   "execution_count": 14,
   "metadata": {},
   "outputs": [],
   "source": [
    "class Retangulo:\n",
    "    def __init__(self, base, altura):\n",
    "        self.base = base\n",
    "        self.altura = altura\n",
    "        \n",
    "    def area(self):\n",
    "        return self.base * self.altura\n",
    "        \n",
    "    def perimetro(self):\n",
    "        return self.base + self.base + self.altura + self.altura"
   ]
  },
  {
   "cell_type": "code",
   "execution_count": 22,
   "metadata": {},
   "outputs": [
    {
     "data": {
      "text/plain": [
       "30"
      ]
     },
     "execution_count": 22,
     "metadata": {},
     "output_type": "execute_result"
    }
   ],
   "source": [
    "retangulo = Retangulo(10,5)\n",
    "retangulo.area()\n",
    "retangulo.perimetro()"
   ]
  },
  {
   "cell_type": "markdown",
   "metadata": {},
   "source": [
    "Crie um arquivo chamado geometria.py e salve a classe Retangulo dentro desse arquivo. Importe a classe de algum outro arquivo e realize testes."
   ]
  },
  {
   "cell_type": "code",
   "execution_count": 24,
   "metadata": {},
   "outputs": [
    {
     "data": {
      "text/plain": [
       "90"
      ]
     },
     "execution_count": 24,
     "metadata": {},
     "output_type": "execute_result"
    }
   ],
   "source": [
    "from geometria import Retangulo\n",
    "\n",
    "mario = Retangulo(10,9)\n",
    "mario.area() "
   ]
  },
  {
   "cell_type": "markdown",
   "metadata": {},
   "source": [
    "Crie uma classe Conta que tenha os atributos saldo e titular e os métodos depositar() e sacar(). Em seguida, instancie essa classe com um saldo inicial e realize algumas operações de depósito e saque para verificar se o saldo está sendo atualizado corretamente."
   ]
  },
  {
   "cell_type": "code",
   "execution_count": 28,
   "metadata": {},
   "outputs": [],
   "source": [
    "class Conta:\n",
    "    def __init__(self, saldo, titular):\n",
    "        self.saldo = saldo\n",
    "        self.titular = titular\n",
    "\n",
    "    def depositar(self, valor):\n",
    "        self.saldo += valor\n",
    "    def sacar(self, valor):\n",
    "        if self.saldo >= valor:\n",
    "            self.saldo -= valor\n",
    "        else:\n",
    "            print(\"Seu saldo é insuficiente para completar essa transação.\")\n"
   ]
  },
  {
   "cell_type": "code",
   "execution_count": 33,
   "metadata": {},
   "outputs": [
    {
     "name": "stdout",
     "output_type": "stream",
     "text": [
      "Seu saldo é insuficiente para completar essa transação.\n"
     ]
    },
    {
     "data": {
      "text/plain": [
       "300"
      ]
     },
     "execution_count": 33,
     "metadata": {},
     "output_type": "execute_result"
    }
   ],
   "source": [
    "conta1 = Conta(0,\"Sthefany\")\n",
    "conta1.depositar(300)\n",
    "conta1.sacar(301)\n",
    "conta1.saldo\n"
   ]
  }
 ],
 "metadata": {
  "kernelspec": {
   "display_name": "Python 3",
   "language": "python",
   "name": "python3"
  },
  "language_info": {
   "codemirror_mode": {
    "name": "ipython",
    "version": 3
   },
   "file_extension": ".py",
   "mimetype": "text/x-python",
   "name": "python",
   "nbconvert_exporter": "python",
   "pygments_lexer": "ipython3",
   "version": "3.8.10"
  }
 },
 "nbformat": 4,
 "nbformat_minor": 2
}

{
 "cells": [
  {
   "cell_type": "markdown",
   "metadata": {},
   "source": [
    "Criar um Array NumPy com 10 elementos inteiros aleatórios no invervalo [0,100] e exiba os valores  e o tipo de dado do array"
   ]
  },
  {
   "cell_type": "code",
   "execution_count": null,
   "metadata": {},
   "outputs": [],
   "source": [
    "import numpy as np\n",
    "\n",
    "array_numpy = np.random.randint(0,100,size=10)\n",
    "print(array_numpy)\n",
    "print(array_numpy.dtype)\n"
   ]
  },
  {
   "cell_type": "markdown",
   "metadata": {},
   "source": [
    "Crie uma matriz 5x5 com valores aleatórios de [0,1) e encontre o valor mínimo, máximo e a média da matriz."
   ]
  },
  {
   "cell_type": "code",
   "execution_count": 41,
   "metadata": {},
   "outputs": [
    {
     "name": "stdout",
     "output_type": "stream",
     "text": [
      "Min: 0.06723601504059229\n",
      "Max: 0.9883463695056076\n",
      "Med: 0.5028198751999087\n"
     ]
    }
   ],
   "source": [
    "matriz = np.random.rand(5,5)\n",
    "\n",
    "print(\"Min:\",matriz.min())\n",
    "print(\"Max:\",matriz.max())\n",
    "print(\"Med:\",matriz.mean())\n"
   ]
  },
  {
   "cell_type": "markdown",
   "metadata": {},
   "source": [
    "Crie um array com 10 elementos aleatórios no intervalo [0,1]. Em seguida, crie um novo array com os elementos do primeiro array multiplicados por 10 e convertidos para inteiro."
   ]
  },
  {
   "cell_type": "code",
   "execution_count": 42,
   "metadata": {},
   "outputs": [
    {
     "name": "stdout",
     "output_type": "stream",
     "text": [
      "[0.93455253 0.14344964 0.12575736 0.27223108 0.76791293 0.9636488\n",
      " 0.95613153 0.802342   0.32249172 0.49410896]\n",
      "[9 1 1 2 7 9 9 8 3 4]\n"
     ]
    }
   ],
   "source": [
    "first_array = np.random.rand(10)\n",
    "print(first_array)\n",
    "\n",
    "second_array = (first_array*10).astype(int)\n",
    "print(second_array)"
   ]
  },
  {
   "cell_type": "markdown",
   "metadata": {},
   "source": [
    "Crie um array de duas dimensões com shape (3,3) e valores aleatórios inteiros no intervalo [0,9]. Substitua todos os elementos da segunda linha por -1."
   ]
  },
  {
   "cell_type": "code",
   "execution_count": 55,
   "metadata": {},
   "outputs": [
    {
     "name": "stdout",
     "output_type": "stream",
     "text": [
      "[[ 1  5  2]\n",
      " [-1 -1 -1]\n",
      " [ 7  2  4]]\n"
     ]
    }
   ],
   "source": [
    "import pandas as pd\n",
    "td = np.random.randint(0,10, (3,3))\n",
    "td[1,:] = -1\n",
    "print(td)\n"
   ]
  },
  {
   "cell_type": "markdown",
   "metadata": {},
   "source": [
    "Crie um dataframe com as seguintes informações:\n",
    "    Coluna \"fruta\": \"Banana\", \"Maça\", \"Pera\"\n",
    "    Coluna \"preco\":7.90,10.20,11.80\n",
    "    Coluna \"quantidade\":12,3,4"
   ]
  },
  {
   "cell_type": "code",
   "execution_count": 59,
   "metadata": {},
   "outputs": [
    {
     "name": "stdout",
     "output_type": "stream",
     "text": [
      "    fruta preco quantidade\n",
      "0  Banana   7.9         12\n",
      "1    Maça  10.2          3\n",
      "2    Pera  11.8          4\n"
     ]
    }
   ],
   "source": [
    "arr = np.array([[\"Banana\",7.90,12],[\"Maça\",10.20,3],[\"Pera\",11.80,4]])\n",
    "df = pd.DataFrame(arr,columns=['fruta','preco','quantidade'])\n",
    "print(df)\n"
   ]
  }
 ],
 "metadata": {
  "kernelspec": {
   "display_name": "Python 3",
   "language": "python",
   "name": "python3"
  },
  "language_info": {
   "codemirror_mode": {
    "name": "ipython",
    "version": 3
   },
   "file_extension": ".py",
   "mimetype": "text/x-python",
   "name": "python",
   "nbconvert_exporter": "python",
   "pygments_lexer": "ipython3",
   "version": "3.8.10"
  }
 },
 "nbformat": 4,
 "nbformat_minor": 2
}

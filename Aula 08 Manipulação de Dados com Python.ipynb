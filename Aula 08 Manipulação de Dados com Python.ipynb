{
 "cells": [
  {
   "cell_type": "markdown",
   "metadata": {},
   "source": [
    "01. Abra o arquivo \"Cancer_Data.csv\", conte quantas linhas o dataframe possui com a coluna diagnosis = 'B'."
   ]
  },
  {
   "cell_type": "code",
   "execution_count": 1,
   "metadata": {},
   "outputs": [
    {
     "name": "stdout",
     "output_type": "stream",
     "text": [
      "A quantidade de linhas que o dataframe possui com a coluna diagnosis = B é 357.\n"
     ]
    }
   ],
   "source": [
    "import pandas as pd\n",
    "df = pd.read_csv(\"Cancer_Data.csv\")\n",
    "filtro = df['diagnosis'].str.contains(\"B\")\n",
    "df_filtrado = df[filtro]\n",
    "qntd_linhas = df_filtrado.shape[0]\n",
    "print(f\"A quantidade de linhas que o dataframe possui com a coluna diagnosis = B é {qntd_linhas}.\")\n"
   ]
  },
  {
   "cell_type": "markdown",
   "metadata": {},
   "source": [
    "02. Substitua a coluna diagnosis seguindo a regra:\n",
    "    - \"B\" para \"benign cancer\"\n",
    "    - \"M\" para \"malignant cancer\""
   ]
  },
  {
   "cell_type": "code",
   "execution_count": 2,
   "metadata": {},
   "outputs": [
    {
     "data": {
      "text/plain": [
       "0      malignant cancer\n",
       "1      malignant cancer\n",
       "2      malignant cancer\n",
       "3      malignant cancer\n",
       "4      malignant cancer\n",
       "             ...       \n",
       "564    malignant cancer\n",
       "565    malignant cancer\n",
       "566    malignant cancer\n",
       "567    malignant cancer\n",
       "568       benign cancer\n",
       "Name: diagnosis, Length: 569, dtype: object"
      ]
     },
     "execution_count": 2,
     "metadata": {},
     "output_type": "execute_result"
    }
   ],
   "source": [
    "import pandas as pd\n",
    "df = pd.read_csv(\"Cancer_Data.csv\")\n",
    "df['diagnosis'].str.replace(\"M\",\"malignant cancer\").str.replace(\"B\",\"benign cancer\")\n",
    "\n"
   ]
  },
  {
   "cell_type": "markdown",
   "metadata": {},
   "source": [
    "03. Filtre os IDs dos 'malignant cancer' com raio maior que 25."
   ]
  },
  {
   "cell_type": "code",
   "execution_count": 3,
   "metadata": {},
   "outputs": [
    {
     "data": {
      "text/html": [
       "<div>\n",
       "<style scoped>\n",
       "    .dataframe tbody tr th:only-of-type {\n",
       "        vertical-align: middle;\n",
       "    }\n",
       "\n",
       "    .dataframe tbody tr th {\n",
       "        vertical-align: top;\n",
       "    }\n",
       "\n",
       "    .dataframe thead th {\n",
       "        text-align: right;\n",
       "    }\n",
       "</style>\n",
       "<table border=\"1\" class=\"dataframe\">\n",
       "  <thead>\n",
       "    <tr style=\"text-align: right;\">\n",
       "      <th></th>\n",
       "      <th>diagnosis</th>\n",
       "      <th>radius_mean</th>\n",
       "    </tr>\n",
       "  </thead>\n",
       "  <tbody>\n",
       "    <tr>\n",
       "      <th>82</th>\n",
       "      <td>M</td>\n",
       "      <td>25.22</td>\n",
       "    </tr>\n",
       "    <tr>\n",
       "      <th>180</th>\n",
       "      <td>M</td>\n",
       "      <td>27.22</td>\n",
       "    </tr>\n",
       "    <tr>\n",
       "      <th>212</th>\n",
       "      <td>M</td>\n",
       "      <td>28.11</td>\n",
       "    </tr>\n",
       "    <tr>\n",
       "      <th>352</th>\n",
       "      <td>M</td>\n",
       "      <td>25.73</td>\n",
       "    </tr>\n",
       "    <tr>\n",
       "      <th>461</th>\n",
       "      <td>M</td>\n",
       "      <td>27.42</td>\n",
       "    </tr>\n",
       "  </tbody>\n",
       "</table>\n",
       "</div>"
      ],
      "text/plain": [
       "    diagnosis  radius_mean\n",
       "82          M        25.22\n",
       "180         M        27.22\n",
       "212         M        28.11\n",
       "352         M        25.73\n",
       "461         M        27.42"
      ]
     },
     "execution_count": 3,
     "metadata": {},
     "output_type": "execute_result"
    }
   ],
   "source": [
    "filtro2 = df['radius_mean'] > 25\n",
    "df_com_filtro2 = df[filtro2]\n",
    "df_com_filtro2.iloc[:,1:3]"
   ]
  }
 ],
 "metadata": {
  "kernelspec": {
   "display_name": "Python 3",
   "language": "python",
   "name": "python3"
  },
  "language_info": {
   "codemirror_mode": {
    "name": "ipython",
    "version": 3
   },
   "file_extension": ".py",
   "mimetype": "text/x-python",
   "name": "python",
   "nbconvert_exporter": "python",
   "pygments_lexer": "ipython3",
   "version": "3.11.5"
  }
 },
 "nbformat": 4,
 "nbformat_minor": 2
}

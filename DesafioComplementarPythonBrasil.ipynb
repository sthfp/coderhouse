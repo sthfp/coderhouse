{
 "cells": [
  {
   "cell_type": "markdown",
   "metadata": {},
   "source": [
    "Faça um Programa que mostre a mensagem \"Alo mundo\" na tela. "
   ]
  },
  {
   "cell_type": "code",
   "execution_count": null,
   "metadata": {},
   "outputs": [],
   "source": [
    "print(\"Alo Mundo\")"
   ]
  },
  {
   "cell_type": "markdown",
   "metadata": {},
   "source": [
    "Faça um Programa que peça um número e então mostre a mensagem O número informado foi [número]. "
   ]
  },
  {
   "cell_type": "code",
   "execution_count": null,
   "metadata": {},
   "outputs": [],
   "source": [
    "numero = input(\"Insira um número:\")\n",
    "print(f\"O número informado foi {numero}\")"
   ]
  },
  {
   "cell_type": "markdown",
   "metadata": {},
   "source": [
    "Faça um Programa que peça dois números e imprima a soma. "
   ]
  },
  {
   "cell_type": "code",
   "execution_count": null,
   "metadata": {},
   "outputs": [],
   "source": [
    "x = input(\"Informe um número inteiro:\")\n",
    "y = input(\"Informe outro número inteiro:\")\n",
    "numero1 = int(x)\n",
    "numero2 = int(y)\n",
    "print(numero1+numero2)"
   ]
  },
  {
   "cell_type": "markdown",
   "metadata": {},
   "source": [
    "Faça um Programa que peça as 4 notas bimestrais e mostre a média. "
   ]
  },
  {
   "cell_type": "code",
   "execution_count": null,
   "metadata": {},
   "outputs": [],
   "source": [
    "first = input(\"Qual foi a nota do primeiro bimestre?\")\n",
    "second = input(\"Qual foi a nota do segundo bimestre?\")\n",
    "third= input(\"Qual foi a nota do terceiro bimestre?\")\n",
    "fourth = input(\"Qual foi a nota do quarto bimestre?\")\n",
    "\n",
    "q1 = int(first)\n",
    "q2 = int(second)\n",
    "q3 = int(third)\n",
    "q4 = int(fourth)\n",
    "\n",
    "nota_final = q1+q2+q3+q4\n",
    "media_final = nota_final // 4\n",
    "print(f\"A média final foi: {media_final}\")\n",
    "\n"
   ]
  },
  {
   "cell_type": "markdown",
   "metadata": {},
   "source": [
    "Faça um Programa que converta metros para centímetros. "
   ]
  },
  {
   "cell_type": "code",
   "execution_count": null,
   "metadata": {},
   "outputs": [],
   "source": [
    "def converter_metros_para_centimetros(metros):\n",
    "    centimetros = metros * 100\n",
    "    return centimetros\n",
    "\n",
    "converter_metros_para_centimetros(5)"
   ]
  },
  {
   "cell_type": "markdown",
   "metadata": {},
   "source": [
    "Faça um Programa que peça o raio de um círculo, calcule e mostre sua área. "
   ]
  },
  {
   "cell_type": "code",
   "execution_count": null,
   "metadata": {},
   "outputs": [],
   "source": [
    "raio = input(\"Informe o raio de um círculo:\")\n",
    "raio_int = int(raio)\n",
    "n = raio_int * 3.141592653\n",
    "area = n*n\n",
    "print(f\"A área desse círculo é: {area:.2f}\")"
   ]
  },
  {
   "cell_type": "markdown",
   "metadata": {},
   "source": [
    "Faça um Programa que calcule a área de um quadrado, em seguida mostre o dobro desta área para o usuário. "
   ]
  },
  {
   "cell_type": "code",
   "execution_count": null,
   "metadata": {},
   "outputs": [],
   "source": [
    "lado1 = input(\"Informe a altura do quadrado:\")\n",
    "lado2 = input(\"Informe a largura do quadrado:\")\n",
    "altura = int(lado1)\n",
    "largura = int(lado2)\n",
    "area_quadrado = altura * largura\n",
    "dobro_area_quadrado = area_quadrado * 2\n",
    "print(f\"A área do quadrado é {area_quadrado} e o dobro desta área é {dobro_area_quadrado}.\")\n"
   ]
  },
  {
   "cell_type": "markdown",
   "metadata": {},
   "source": [
    "Faça um Programa que pergunte quanto você ganha por hora e o número de horas trabalhadas no mês. Calcule e mostre o total do seu salário no referido mês. "
   ]
  },
  {
   "cell_type": "code",
   "execution_count": null,
   "metadata": {},
   "outputs": [],
   "source": [
    "salario_hora = input(\"Qual seu salário por hora:\")\n",
    "horas_trabalhadas_mes = input(\"Quantas horas trabalhadas no mês:\")\n",
    "salario_hora_float = float(salario_hora)\n",
    "horas_trabalhadas_mes_float = float(horas_trabalhadas_mes)\n",
    "\n",
    "salario_mensal = salario_hora_float * horas_trabalhadas_mes_float\n",
    "\n",
    "print(f\"Seu salário mensal foi de {salario_mensal:,.2f} no referido mês.\")"
   ]
  },
  {
   "cell_type": "markdown",
   "metadata": {},
   "source": [
    "Faça um Programa que peça a temperatura em graus Fahrenheit, transforme e mostre a temperatura em graus Celsius. \n",
    "    C = 5 * ((F-32) / 9). "
   ]
  },
  {
   "cell_type": "code",
   "execution_count": null,
   "metadata": {},
   "outputs": [],
   "source": [
    "fahrenheit = input(\"Qual a temperatura em graus Fahrenheit?\")\n",
    "fahrenheit_float = float(fahrenheit)\n",
    "fahrenheit_para_celsius = 5 * ((fahrenheit_float-32)/9)\n",
    "print(f\"A temperatura {fahrenheit_float:.2f}ºF equivale a {fahrenheit_para_celsius:,.2f}ºC.\")"
   ]
  },
  {
   "cell_type": "markdown",
   "metadata": {},
   "source": [
    "Faça um Programa que peça a temperatura em graus Celsius, transforme e mostre em graus Fahrenheit. "
   ]
  },
  {
   "cell_type": "code",
   "execution_count": null,
   "metadata": {},
   "outputs": [],
   "source": [
    "celsius = input(\"Qual a temperatura em graus Celsius?\")\n",
    "celsius_float = float(celsius)\n",
    "celsius_para_fahrenheit = ((9*celsius_float)+160)/5\n",
    "print(f\"A temperatura {celsius_float:.2f}ºC equivale a {celsius_para_fahrenheit:,.2f}ºF.\")"
   ]
  },
  {
   "cell_type": "markdown",
   "metadata": {},
   "source": [
    "Faça um Programa que peça 2 números inteiros e um número real. Calcule e mostre:\n",
    "\n",
    "* o produto do dobro do primeiro com metade do segundo\n",
    "* a soma do triplo do primeiro com o terceiro\n",
    "* o terceiro elevado ao cubo"
   ]
  },
  {
   "cell_type": "code",
   "execution_count": null,
   "metadata": {},
   "outputs": [],
   "source": [
    "numero_inteiro1 = input(\"Informe um número inteiro:\")\n",
    "numero_inteiro2 = input(\"Informe outro número inteiro:\")\n",
    "numero_real = input(\"Informe um número real:\")\n",
    "\n",
    "num_int1 = int(numero_inteiro1)\n",
    "num_int2 = int(numero_inteiro2)\n",
    "num_real = float(numero_inteiro2)\n",
    "\n",
    "calc1 = (2*num_int1)*(num_int2/2)\n",
    "calc2 = (3*num_int1)+num_real\n",
    "calc3 = num_real * num_real * num_real\n",
    "\n",
    "print(f\"O produto do dobro do primeiro com metade do segundo é {calc1}.\")\n",
    "print(f\"a soma do triplo do primeiro com o terceiro é {calc2}.\")\n",
    "print(f\"o terceiro elevado ao cubo é {calc3}.\")\n",
    "\n"
   ]
  },
  {
   "cell_type": "markdown",
   "metadata": {},
   "source": [
    "Tendo como dados de entrada a altura de uma pessoa, construa um algoritmo que calcule seu peso ideal, usando a seguinte fórmula:\n",
    ">(72.7*altura) - 58 "
   ]
  },
  {
   "cell_type": "code",
   "execution_count": null,
   "metadata": {},
   "outputs": [],
   "source": [
    "altura = input(\"Qual sua altura?\")\n",
    "altura_float = float(altura)\n",
    "peso_ideal = (72.7 * altura_float) - 58\n",
    "print(f\"Seu peso ideal é {peso_ideal:,.2f}kg\")"
   ]
  },
  {
   "cell_type": "markdown",
   "metadata": {},
   "source": [
    "Tendo como dado de entrada a altura (h) de uma pessoa, construa um algoritmo que calcule seu peso ideal, utilizando as seguintes fórmulas: \n",
    "1. Para homens: (72.7*h) - 58 \n",
    "2. Para mulheres: (62.1*h) - 44.7 "
   ]
  },
  {
   "cell_type": "code",
   "execution_count": null,
   "metadata": {},
   "outputs": [],
   "source": [
    "sexo = input(\"Qual seu gênero? Digite 'a' para mulher e 'b' para homem\")\n",
    "altura = input(\"Qual sua altura em metros?\")\n",
    "h = float(altura)\n",
    "\n",
    "if sexo == \"a\":\n",
    "    peso_ideal_fem = (62.1*h)-44.7\n",
    "    print(f\"Seu peso ideal é {peso_ideal_fem:,.2f}kg\")\n",
    "else:\n",
    "    peso_ideal_masc = (72.7*h)-58\n",
    "    print(f\"Seu peso ideal é {peso_ideal_masc:,.2f}kg\")"
   ]
  },
  {
   "cell_type": "markdown",
   "metadata": {},
   "source": [
    "João Papo-de-Pescador, homem de bem, comprou um microcomputador para controlar o rendimento diário de seu trabalho. Toda vez que ele traz um peso de peixes maior que o estabelecido pelo regulamento de pesca do estado de São Paulo (50 quilos) deve pagar uma multa de R$ 4,00 por quilo excedente. João precisa que você faça um programa que leia a variável peso (peso de peixes) e calcule o excesso. Gravar na variável excesso a quantidade de quilos além do limite e na variável multa o valor da multa que João deverá pagar. Imprima os dados do programa com as mensagens adequadas. "
   ]
  },
  {
   "cell_type": "code",
   "execution_count": null,
   "metadata": {},
   "outputs": [],
   "source": [
    "peso_de_peixes = input(\"Olá João Papo-de-Pescador. Seja bem-vindo à calculadora de multas.\\nInforme quantos quilos de peixe foram pescados hoje:\")\n",
    "peso = float(peso_de_peixes)\n",
    "\n",
    "if peso > 50:\n",
    "    excesso = peso - 50\n",
    "    multa = excesso * 4\n",
    "    print(f\"João, o excesso desta pesca foi de {excesso:,.2f} quilos, totalizando uma multa de R$ {multa:,.2f}.\")\n",
    "else:\n",
    "    print(\"Não houve excesso de pesca, portanto, não haverá pagamento de multa. Tenha um bom dia!\")\n"
   ]
  },
  {
   "cell_type": "markdown",
   "metadata": {},
   "source": [
    "Faça um Programa que pergunte quanto você ganha por hora e o número de horas trabalhadas no mês. Calcule e mostre o total do seu salário no referido mês, sabendo-se que são descontados 11% para o Imposto de Renda, 8% para o INSS e 5% para o sindicato, faça um programa que nos dê: \n",
    "1. salário bruto.\n",
    "2. quanto pagou ao INSS.\n",
    "3. quanto pagou ao sindicato.\n",
    "4. o salário líquido.\n",
    "5. calcule os descontos e o salário líquido, conforme a tabela abaixo: \n",
    " + Salário Bruto : R$\n",
    " - IR (11%) : R$\n",
    " - INSS (8%) : R$\n",
    " - Sindicato ( 5%) : R$\n",
    " = Salário Liquido : R$"
   ]
  },
  {
   "cell_type": "code",
   "execution_count": null,
   "metadata": {},
   "outputs": [],
   "source": [
    "salario_hora = input(\"Qual seu salário por hora:\")\n",
    "horas_trabalhadas_mes = input(\"Quantas horas trabalhadas no mês:\")\n",
    "salario_hora_float = float(salario_hora)\n",
    "horas_trabalhadas_mes_float = float(horas_trabalhadas_mes)\n",
    "\n",
    "salario_bruto = salario_hora_float * horas_trabalhadas_mes_float\n",
    "inss = salario_bruto * 0.08\n",
    "ir = salario_bruto * 0.11\n",
    "sindicato = salario_bruto * 0.05\n",
    "salario_liquido = salario_bruto - inss - ir - sindicato\n",
    "\n",
    "print(f\"+ Salário Bruto   : R$ {salario_bruto:,.2f}\\n\"\n",
    "      f\"- IR (11%)        : R$ {ir:,.2f}\\n\"\n",
    "      f\"- INSS (8%)       : R$ {inss:,.2f}\\n\"\n",
    "      f\"- Sindicato ( 5%) : R$ {sindicato:,.2f}\\n\"\n",
    "      f\"= Salário Liquido : R$ {salario_liquido:,.2f}\")"
   ]
  },
  {
   "cell_type": "markdown",
   "metadata": {},
   "source": [
    "Faça um programa para uma loja de tintas. O programa deverá pedir o tamanho em metros quadrados da área a ser pintada. Considere que a cobertura da tinta é de 1 litro para cada 3 metros quadrados e que a tinta é vendida em latas de 18 litros, que custam R$ 80,00. Informe ao usuário a quantidades de latas de tinta a serem compradas e o preço total. "
   ]
  },
  {
   "cell_type": "code",
   "execution_count": null,
   "metadata": {},
   "outputs": [],
   "source": [
    "area = input(\"Qual o tamanho, em metros quadrados, da área a ser pintada?\")\n",
    "area_float = float(area)\n",
    "quantidade_de_latas = area_float / (18*3)\n",
    "preco_total = quantidade_de_latas * 80.00\n",
    "print(f\"A quantidade de latas de tinta necessárias para pintar a área indicada é de {quantidade_de_latas:,.2f} latas e o preço total será R$ {preco_total:,.2f}\")\n"
   ]
  },
  {
   "cell_type": "markdown",
   "metadata": {},
   "source": [
    "Faça um Programa para uma loja de tintas. O programa deverá pedir o tamanho em metros quadrados da área a ser pintada. Considere que a cobertura da tinta é de 1 litro para cada 6 metros quadrados e que a tinta é vendida em latas de 18 litros, que custam R$ 80,00 ou em galões de 3,6 litros, que custam R$ 25,00.\n",
    "Informe ao usuário as quantidades de tinta a serem compradas e os respectivos preços em 3 situações:\n",
    "* comprar apenas latas de 18 litros;\n",
    "* comprar apenas galões de 3,6 litros; \n",
    "* misturar latas e galões, de forma que o desperdício de tinta seja menor. Acrescente 10% de folga e sempre arredonde os valores para cima, isto é, considere latas cheias. "
   ]
  },
  {
   "cell_type": "code",
   "execution_count": 233,
   "metadata": {},
   "outputs": [
    {
     "name": "stdout",
     "output_type": "stream",
     "text": [
      "Veja abaixo quantas latas ou galões você deve comprar e qual o gasto final total:\n",
      "Quantidade latas:          3 \n",
      "Quantidade galões:         2\n",
      "Gasto total com latas:  R$ 240.00\n",
      "Gasto total com galões: R$ 50.00\n",
      "Gasto total final:      R$ 290.00\n"
     ]
    }
   ],
   "source": [
    "import math\n",
    "area_pintada = input(\"Qual a área a ser pintada?\")\n",
    "x = float(area_pintada)\n",
    "rendimento = x/18\n",
    "latas = 0\n",
    "galoes = 0\n",
    "preco_latas = 80\n",
    "preco_galoes = 25\n",
    "\n",
    "if rendimento <= 3.96:\n",
    "    galoes = math.floor(rendimento)\n",
    "\n",
    "if  6.6 > rendimento > 3.96:\n",
    "    latas = 1\n",
    "\n",
    "if rendimento > 6.6:\n",
    "    while rendimento > 6.6:\n",
    "        latas += 1\n",
    "        rendimento -= 6.6\n",
    "    resto = math.ceil(rendimento)\n",
    "     \n",
    "    if resto < 0:\n",
    "        resto = resto * -1\n",
    "        galoes = math.ceil(resto)\n",
    "    if 3.96 >= resto >= 0:\n",
    "        galoes = math.floor(resto)\n",
    "    if resto > 3.96:\n",
    "        latas += 1\n",
    "    if galoes > 3:\n",
    "        galoes = 0\n",
    "        latas += 1\n",
    "\n",
    "gasto_latas = latas * preco_latas\n",
    "gasto_galoes = galoes * preco_galoes\n",
    "gasto_total = gasto_latas + gasto_galoes\n",
    "\n",
    "print(f\"Veja abaixo quantas latas ou galões você deve comprar e qual o gasto final total:\\n\"\n",
    "      f\"Quantidade latas:          {latas} \\n\"\n",
    "      f\"Quantidade galões:         {galoes}\\n\"\n",
    "      f\"Gasto total com latas:  R$ {gasto_latas:,.2f}\\n\"\n",
    "      f\"Gasto total com galões: R$ {gasto_galoes:,.2f}\\n\"\n",
    "      f\"Gasto total final:      R$ {gasto_total:,.2f}\")"
   ]
  }
 ],
 "metadata": {
  "kernelspec": {
   "display_name": "Python 3",
   "language": "python",
   "name": "python3"
  },
  "language_info": {
   "codemirror_mode": {
    "name": "ipython",
    "version": 3
   },
   "file_extension": ".py",
   "mimetype": "text/x-python",
   "name": "python",
   "nbconvert_exporter": "python",
   "pygments_lexer": "ipython3",
   "version": "3.11.5"
  }
 },
 "nbformat": 4,
 "nbformat_minor": 2
}

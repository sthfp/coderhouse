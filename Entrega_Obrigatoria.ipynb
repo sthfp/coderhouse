{
 "cells": [
  {
   "cell_type": "code",
   "execution_count": null,
   "metadata": {},
   "outputs": [],
   "source": [
    "import pandas as pd\n",
    "\n",
    "cnpj_full = pd.read_excel(\"cnpj_database.xlsx\")\n",
    "cnpj_filtered = cnpj_full[cnpj_full['Descricao Situacao Cadastral'] == 'ATIVA']\n",
    "cnpj_filtered.to_excel(\"cnpj_v2.xlsx\")"
   ]
  },
  {
   "cell_type": "code",
   "execution_count": 54,
   "metadata": {},
   "outputs": [],
   "source": [
    "import pandas as pd\n",
    "\n",
    "corretoras_full = pd.read_excel(\"corretoras_database.xlsx\")\n",
    "corretoras_filtered = corretoras_full[corretoras_full[\"status\"].isin(['EM FUNCIONAMENTO NORMAL','INCORPORAÇÃO'])]\n",
    "corretoras_clean = corretoras_filtered.loc[:,['cnpj','nome_social','nome_comercial','status','email','telefone','cep',\n",
    "                                              'data_patrimonio_liquido','valor_patrimonio_liquido','codigo_cvm','data_registro']]\n",
    "corretoras_renamed = corretoras_clean.rename(columns={'cnpj': 'CNPJ', 'nome_social': 'Razao Social',\n",
    "                                                         'nome_comercial': 'Nome Fantasia','status':'Status','email':'E-mail',\n",
    "                                                         'telefone':'Telefone','cep':'CEP','data_patrimonio_liquido':'Data Patromonio Liquido',\n",
    "                                                         'valor_patrimonio_liquido':'Valor Patrimonio Liquido',\n",
    "                                                         'codigo_cvm':'Codigo CVM','data_registro':'Data Registro'})\n",
    "\n",
    "corretoras_renamed['Nome Fantasia'] = corretoras_renamed['Nome Fantasia'].replace({'--':'','-----':''})\n",
    "corretoras_renamed.to_excel(\"corretoras_v2.xlsx\")"
   ]
  },
  {
   "cell_type": "markdown",
   "metadata": {},
   "source": [
    "O DB \"cep_database\" não havia nada para formatar/tratar."
   ]
  }
 ],
 "metadata": {
  "kernelspec": {
   "display_name": "Python 3",
   "language": "python",
   "name": "python3"
  },
  "language_info": {
   "codemirror_mode": {
    "name": "ipython",
    "version": 3
   },
   "file_extension": ".py",
   "mimetype": "text/x-python",
   "name": "python",
   "nbconvert_exporter": "python",
   "pygments_lexer": "ipython3",
   "version": "3.8.10"
  }
 },
 "nbformat": 4,
 "nbformat_minor": 2
}
